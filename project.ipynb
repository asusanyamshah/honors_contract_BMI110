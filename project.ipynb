{
 "cells": [
  {
   "cell_type": "code",
   "execution_count": null,
   "metadata": {},
   "outputs": [],
   "source": [
    "# Importing the Libraries\n",
    "import numpy as np\n",
    "import pandas as pd\n",
    "from matplotlib import pyplot as plt\n",
    "from sklearn.model_selection import train_test_split\n",
    "from sklearn.ensemble import RandomForestClassifier\n",
    "from sklearn.compose import ColumnTransformer\n",
    "from sklearn.preprocessing import OneHotEncoder\n",
    "from sklearn.metrics import confusion_matrix, accuracy_score\n",
    "from imblearn.over_sampling import RandomOverSampler\n",
    "import os\n",
    "\n",
    "# Defining the path for the csv file\n",
    "path = os.path.join('Healthcare.csv')\n",
    "\n",
    "# Reading the csv using pandas\n",
    "dataset = pd.read_csv(path)\n",
    "\n",
    "# Dropping the unnecessary columns\n",
    "dataset = dataset.drop('id', axis='columns')\n",
    "\n",
    "# Filling the missing values\n",
    "dataset = dataset.fillna(8)\n",
    "\n",
    "# Splitting the dataset into independent and dependent variables \n",
    "x = dataset.iloc[:, :-1].values\n",
    "y = dataset.iloc[:, -1].values.reshape(-1, 1)\n",
    "\n",
    "# Creating a transformer\n",
    "transformer = ColumnTransformer(transformers=[('encoder', OneHotEncoder(), [0, 4, 5, 6, 9])], remainder='passthrough')\n",
    "\n",
    "# Fitting the values of x into the transformer\n",
    "transformer.fit(x)\n",
    "\n",
    "# Transforming the values of x, converting the categorical data into number\n",
    "x_transformed = np.array(transformer.transform(x))\n",
    "\n",
    "# Creating a sampler\n",
    "resampler = RandomOverSampler(random_state=0)\n",
    "\n",
    "# Resampling the data\n",
    "x_resampled, y_resampled = resampler.fit_resample(x_transformed, y)\n",
    "\n",
    "# Splitting the data into training set and testing set\n",
    "x_train, x_test, y_train, y_test = train_test_split(x_resampled, y_resampled, test_size=0.3, random_state=0)\n",
    "\n",
    "# Making the model\n",
    "classifier = RandomForestClassifier(n_estimators=10, criterion='entropy', random_state=0)\n",
    "\n",
    "# Training the model\n",
    "classifier.fit(x_train, y_train)\n",
    "\n",
    "# Predicting the results \n",
    "y_pred = classifier.predict(x_test)\n",
    "\n",
    "# Getting accuracy results\n",
    "cm = confusion_matrix(y_test, y_pred)\n",
    "print(accuracy_score(y_test, y_pred) * 100, '%', 'is the accuracy')\n",
    "print(cm)"
   ]
  },
  {
   "cell_type": "code",
   "execution_count": null,
   "metadata": {},
   "outputs": [],
   "source": [
    "# Plotting the heatmap\n",
    "plt.imshow(cm, cmap='Blues')\n",
    "plt.colorbar()\n",
    "plt.show()"
   ]
  },
  {
   "cell_type": "code",
   "execution_count": null,
   "metadata": {},
   "outputs": [],
   "source": [
    "# Providing the data we have to test\n",
    "data_to_predict = np.array(['Male', 67, 0, 1, 'Yes', 'Private', 'Urban', 228.86, 36.6, 'never smoked']).reshape(1, -1)\n",
    "\n",
    "# Preprocessing the data: Converting categorical data to numbers using the transformer created earlier\n",
    "data_to_predict_transformed = transformer.transform(data_to_predict)\n",
    "\n",
    "# Getting the prediction of the model\n",
    "prediction = classifier.predict(data_to_predict_transformed)\n",
    "\n",
    "# Printing out the results in human readable form\n",
    "if prediction[0] == 1:\n",
    "    print('You have a chance of having a stroke')\n",
    "else:\n",
    "    print('You do not have a chance of having a stroke')\n"
   ]
  }
 ],
 "metadata": {
  "kernelspec": {
   "display_name": "Python 3",
   "language": "python",
   "name": "python3"
  },
  "language_info": {
   "codemirror_mode": {
    "name": "ipython",
    "version": 3
   },
   "file_extension": ".py",
   "mimetype": "text/x-python",
   "name": "python",
   "nbconvert_exporter": "python",
   "pygments_lexer": "ipython3",
   "version": "3.10.7 (v3.10.7:6cc6b13308, Sep  5 2022, 14:02:52) [Clang 13.0.0 (clang-1300.0.29.30)]"
  },
  "orig_nbformat": 4,
  "vscode": {
   "interpreter": {
    "hash": "aee8b7b246df8f9039afb4144a1f6fd8d2ca17a180786b69acc140d282b71a49"
   }
  }
 },
 "nbformat": 4,
 "nbformat_minor": 2
}
